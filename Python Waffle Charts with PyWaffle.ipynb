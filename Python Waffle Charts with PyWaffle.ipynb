{
 "cells": [
  {
   "cell_type": "markdown",
   "metadata": {},
   "source": [
    "# PYTHON WAFFLE CHARTS WITH PYWAFFLE\n",
    "\n",
    "### Waffle charts typically resemble a waffle pattern and provide a way to visualize and compare the size and distribution of data. Often, the number of squares in a waffle chart are scaled down."
   ]
  },
  {
   "cell_type": "markdown",
   "metadata": {},
   "source": [
    "# DOCUMENTATION\n",
    "visit python package index and search for pywaffle"
   ]
  },
  {
   "cell_type": "code",
   "execution_count": 13,
   "metadata": {},
   "outputs": [
    {
     "data": {
      "text/html": [
       "\n",
       "        <iframe\n",
       "            width=\"1000\"\n",
       "            height=\"450\"\n",
       "            src=\"https://pywaffle.readthedocs.io/en/latest/\"\n",
       "            frameborder=\"0\"\n",
       "            allowfullscreen\n",
       "        ></iframe>\n",
       "        "
      ],
      "text/plain": [
       "<IPython.lib.display.IFrame at 0x7fa9f83a3c10>"
      ]
     },
     "metadata": {},
     "output_type": "display_data"
    }
   ],
   "source": [
    "from IPython.display import IFrame\n",
    "documentation = IFrame(src='https://pywaffle.readthedocs.io/en/latest/', width=1000, height=450)\n",
    "display(documentation)"
   ]
  },
  {
   "cell_type": "markdown",
   "metadata": {},
   "source": [
    "# IMPORTS"
   ]
  },
  {
   "cell_type": "code",
   "execution_count": 2,
   "metadata": {},
   "outputs": [],
   "source": [
    "import matplotlib.pyplot as plt\n",
    "import pandas as pd\n",
    "from vega_datasets import data as vds\n",
    "from pywaffle import Waffle"
   ]
  },
  {
   "cell_type": "markdown",
   "metadata": {},
   "source": [
    "# BASIC EXAMPLE"
   ]
  },
  {
   "cell_type": "code",
   "execution_count": 3,
   "metadata": {},
   "outputs": [
    {
     "data": {
      "image/png": "[encoded data removed]",
      "text/plain": [
       "<Waffle size 432x288 with 1 Axes>"
      ]
     },
     "metadata": {
      "needs_background": "light"
     },
     "output_type": "display_data"
    }
   ],
   "source": [
    "# specify rows and columns (at least one of rows and columns is required)\n",
    "# numbers assigned to the rows and columns can affect the scaling, etc.\n",
    "# colors can also use colormap\n",
    "fig = plt.figure(FigureClass=Waffle,\n",
    "                 rows=5,\n",
    "                 columns=10,\n",
    "                 values=[30, 16, 4],\n",
    "                 colors=['navy', 'red', 'yellow'])\n",
    "# fig.show()"
   ]
  },
  {
   "cell_type": "markdown",
   "metadata": {},
   "source": [
    "# CHANGE SHAPE\n",
    "waffle chart shapes can be changed with assigning different characters or icons"
   ]
  },
  {
   "cell_type": "code",
   "execution_count": 15,
   "metadata": {},
   "outputs": [
    {
     "data": {
      "image/png": "[encoded data removed]",
      "text/plain": [
       "<Waffle size 432x288 with 1 Axes>"
      ]
     },
     "metadata": {
      "needs_background": "light"
     },
     "output_type": "display_data"
    }
   ],
   "source": [
    "fig = plt.figure(FigureClass=Waffle,\n",
    "                 rows=5,\n",
    "                 columns=10,\n",
    "                 values=[30, 16, 4],\n",
    "                 characters='+',\n",
    "                 # icons='star',\n",
    "                 colors=['navy', 'red', 'yellow'])\n",
    "\n",
    "# add text\n",
    "# fig.text(x=0.25, y=0.5, s='Add Text', fontsize=50, color='blue')"
   ]
  },
  {
   "cell_type": "markdown",
   "metadata": {},
   "source": [
    "# EXAMPLES USING DATAFRAME"
   ]
  },
  {
   "cell_type": "markdown",
   "metadata": {},
   "source": [
    "### CARS"
   ]
  },
  {
   "cell_type": "code",
   "execution_count": 5,
   "metadata": {},
   "outputs": [
    {
     "data": {
      "text/html": [
       "<div>\n",
       "<style scoped>\n",
       "    .dataframe tbody tr th:only-of-type {\n",
       "        vertical-align: middle;\n",
       "    }\n",
       "\n",
       "    .dataframe tbody tr th {\n",
       "        vertical-align: top;\n",
       "    }\n",
       "\n",
       "    .dataframe thead th {\n",
       "        text-align: right;\n",
       "    }\n",
       "</style>\n",
       "<table border=\"1\" class=\"dataframe\">\n",
       "  <thead>\n",
       "    <tr style=\"text-align: right;\">\n",
       "      <th></th>\n",
       "      <th>Name</th>\n",
       "      <th>Miles_per_Gallon</th>\n",
       "      <th>Cylinders</th>\n",
       "      <th>Displacement</th>\n",
       "      <th>Horsepower</th>\n",
       "      <th>Weight_in_lbs</th>\n",
       "      <th>Acceleration</th>\n",
       "      <th>Year</th>\n",
       "      <th>Origin</th>\n",
       "    </tr>\n",
       "  </thead>\n",
       "  <tbody>\n",
       "    <tr>\n",
       "      <th>0</th>\n",
       "      <td>chevrolet chevelle malibu</td>\n",
       "      <td>18.0</td>\n",
       "      <td>8</td>\n",
       "      <td>307.0</td>\n",
       "      <td>130.0</td>\n",
       "      <td>3504</td>\n",
       "      <td>12.0</td>\n",
       "      <td>1970-01-01</td>\n",
       "      <td>USA</td>\n",
       "    </tr>\n",
       "    <tr>\n",
       "      <th>1</th>\n",
       "      <td>buick skylark 320</td>\n",
       "      <td>15.0</td>\n",
       "      <td>8</td>\n",
       "      <td>350.0</td>\n",
       "      <td>165.0</td>\n",
       "      <td>3693</td>\n",
       "      <td>11.5</td>\n",
       "      <td>1970-01-01</td>\n",
       "      <td>USA</td>\n",
       "    </tr>\n",
       "    <tr>\n",
       "      <th>2</th>\n",
       "      <td>plymouth satellite</td>\n",
       "      <td>18.0</td>\n",
       "      <td>8</td>\n",
       "      <td>318.0</td>\n",
       "      <td>150.0</td>\n",
       "      <td>3436</td>\n",
       "      <td>11.0</td>\n",
       "      <td>1970-01-01</td>\n",
       "      <td>USA</td>\n",
       "    </tr>\n",
       "    <tr>\n",
       "      <th>3</th>\n",
       "      <td>amc rebel sst</td>\n",
       "      <td>16.0</td>\n",
       "      <td>8</td>\n",
       "      <td>304.0</td>\n",
       "      <td>150.0</td>\n",
       "      <td>3433</td>\n",
       "      <td>12.0</td>\n",
       "      <td>1970-01-01</td>\n",
       "      <td>USA</td>\n",
       "    </tr>\n",
       "    <tr>\n",
       "      <th>4</th>\n",
       "      <td>ford torino</td>\n",
       "      <td>17.0</td>\n",
       "      <td>8</td>\n",
       "      <td>302.0</td>\n",
       "      <td>140.0</td>\n",
       "      <td>3449</td>\n",
       "      <td>10.5</td>\n",
       "      <td>1970-01-01</td>\n",
       "      <td>USA</td>\n",
       "    </tr>\n",
       "  </tbody>\n",
       "</table>\n",
       "</div>"
      ],
      "text/plain": [
       "                        Name  Miles_per_Gallon  Cylinders  Displacement  \\\n",
       "0  chevrolet chevelle malibu              18.0          8         307.0   \n",
       "1          buick skylark 320              15.0          8         350.0   \n",
       "2         plymouth satellite              18.0          8         318.0   \n",
       "3              amc rebel sst              16.0          8         304.0   \n",
       "4                ford torino              17.0          8         302.0   \n",
       "\n",
       "   Horsepower  Weight_in_lbs  Acceleration       Year Origin  \n",
       "0       130.0           3504          12.0 1970-01-01    USA  \n",
       "1       165.0           3693          11.5 1970-01-01    USA  \n",
       "2       150.0           3436          11.0 1970-01-01    USA  \n",
       "3       150.0           3433          12.0 1970-01-01    USA  \n",
       "4       140.0           3449          10.5 1970-01-01    USA  "
      ]
     },
     "execution_count": 5,
     "metadata": {},
     "output_type": "execute_result"
    }
   ],
   "source": [
    "cars = vds.cars()\n",
    "cars.head()"
   ]
  },
  {
   "cell_type": "code",
   "execution_count": 6,
   "metadata": {},
   "outputs": [
    {
     "data": {
      "text/plain": [
       "{4: 207, 8: 108, 6: 84, 3: 4, 5: 3}"
      ]
     },
     "execution_count": 6,
     "metadata": {},
     "output_type": "execute_result"
    }
   ],
   "source": [
    "# create dictionary with key value pairs for waffle chart values\n",
    "cylinders = dict(cars.Cylinders.value_counts())\n",
    "cylinders"
   ]
  },
  {
   "cell_type": "code",
   "execution_count": 7,
   "metadata": {},
   "outputs": [
    {
     "data": {
      "text/plain": [
       "['4 cylinders: 51.0%',\n",
       " '8 cylinders: 26.6%',\n",
       " '6 cylinders: 20.7%',\n",
       " '3 cylinders: 1.0%',\n",
       " '5 cylinders: 0.7%']"
      ]
     },
     "execution_count": 7,
     "metadata": {},
     "output_type": "execute_result"
    }
   ],
   "source": [
    "# labels with percents for legend\n",
    "percent = dict(cars.Cylinders.value_counts(normalize=True))\n",
    "labels = [f'{k} cylinders: {v*100:.1f}%' for k,v in percent.items()]\n",
    "labels"
   ]
  },
  {
   "cell_type": "code",
   "execution_count": 16,
   "metadata": {},
   "outputs": [
    {
     "data": {
      "image/png": "[encoded data removed]",
      "text/plain": [
       "<Waffle size 432x288 with 1 Axes>"
      ]
     },
     "metadata": {
      "needs_background": "light"
     },
     "output_type": "display_data"
    }
   ],
   "source": [
    "# waffle chart\n",
    "fig = plt.figure(FigureClass=Waffle,\n",
    "                 columns=25,\n",
    "                 values=cylinders,\n",
    "                 legend={'loc': (1.05, 0.5), 'labels': labels},\n",
    "                 title={'label': 'Cylinders'},\n",
    "                 cmap_name='Dark2')"
   ]
  },
  {
   "cell_type": "markdown",
   "metadata": {},
   "source": [
    "### BIRDSTRIKES"
   ]
  },
  {
   "cell_type": "code",
   "execution_count": 9,
   "metadata": {},
   "outputs": [
    {
     "data": {
      "text/html": [
       "<div>\n",
       "<style scoped>\n",
       "    .dataframe tbody tr th:only-of-type {\n",
       "        vertical-align: middle;\n",
       "    }\n",
       "\n",
       "    .dataframe tbody tr th {\n",
       "        vertical-align: top;\n",
       "    }\n",
       "\n",
       "    .dataframe thead th {\n",
       "        text-align: right;\n",
       "    }\n",
       "</style>\n",
       "<table border=\"1\" class=\"dataframe\">\n",
       "  <thead>\n",
       "    <tr style=\"text-align: right;\">\n",
       "      <th></th>\n",
       "      <th>Airport Name</th>\n",
       "      <th>Aircraft Make Model</th>\n",
       "      <th>Effect Amount of damage</th>\n",
       "      <th>Flight Date</th>\n",
       "      <th>Aircraft Airline Operator</th>\n",
       "      <th>Origin State</th>\n",
       "      <th>Phase of flight</th>\n",
       "      <th>Wildlife Size</th>\n",
       "      <th>Wildlife Species</th>\n",
       "      <th>Time of day</th>\n",
       "      <th>Cost Other</th>\n",
       "      <th>Cost Repair</th>\n",
       "      <th>Cost Total $</th>\n",
       "      <th>Speed IAS in knots</th>\n",
       "    </tr>\n",
       "  </thead>\n",
       "  <tbody>\n",
       "    <tr>\n",
       "      <th>0</th>\n",
       "      <td>BARKSDALE AIR FORCE BASE ARPT</td>\n",
       "      <td>T-38A</td>\n",
       "      <td>None</td>\n",
       "      <td>1990-01-08</td>\n",
       "      <td>MILITARY</td>\n",
       "      <td>Louisiana</td>\n",
       "      <td>Climb</td>\n",
       "      <td>Large</td>\n",
       "      <td>Turkey vulture</td>\n",
       "      <td>Day</td>\n",
       "      <td>0</td>\n",
       "      <td>0</td>\n",
       "      <td>0</td>\n",
       "      <td>300.0</td>\n",
       "    </tr>\n",
       "    <tr>\n",
       "      <th>1</th>\n",
       "      <td>BARKSDALE AIR FORCE BASE ARPT</td>\n",
       "      <td>KC-10A</td>\n",
       "      <td>None</td>\n",
       "      <td>1990-01-09</td>\n",
       "      <td>MILITARY</td>\n",
       "      <td>Louisiana</td>\n",
       "      <td>Approach</td>\n",
       "      <td>Medium</td>\n",
       "      <td>Unknown bird or bat</td>\n",
       "      <td>Night</td>\n",
       "      <td>0</td>\n",
       "      <td>0</td>\n",
       "      <td>0</td>\n",
       "      <td>200.0</td>\n",
       "    </tr>\n",
       "    <tr>\n",
       "      <th>2</th>\n",
       "      <td>BARKSDALE AIR FORCE BASE ARPT</td>\n",
       "      <td>B-52</td>\n",
       "      <td>None</td>\n",
       "      <td>1990-01-11</td>\n",
       "      <td>MILITARY</td>\n",
       "      <td>Louisiana</td>\n",
       "      <td>Take-off run</td>\n",
       "      <td>Medium</td>\n",
       "      <td>Unknown bird or bat</td>\n",
       "      <td>Day</td>\n",
       "      <td>0</td>\n",
       "      <td>0</td>\n",
       "      <td>0</td>\n",
       "      <td>130.0</td>\n",
       "    </tr>\n",
       "    <tr>\n",
       "      <th>3</th>\n",
       "      <td>NEW ORLEANS INTL</td>\n",
       "      <td>B-737-300</td>\n",
       "      <td>Substantial</td>\n",
       "      <td>1990-01-11</td>\n",
       "      <td>SOUTHWEST AIRLINES</td>\n",
       "      <td>Louisiana</td>\n",
       "      <td>Take-off run</td>\n",
       "      <td>Small</td>\n",
       "      <td>Rock pigeon</td>\n",
       "      <td>Day</td>\n",
       "      <td>0</td>\n",
       "      <td>0</td>\n",
       "      <td>0</td>\n",
       "      <td>140.0</td>\n",
       "    </tr>\n",
       "    <tr>\n",
       "      <th>4</th>\n",
       "      <td>BARKSDALE AIR FORCE BASE ARPT</td>\n",
       "      <td>KC-10A</td>\n",
       "      <td>None</td>\n",
       "      <td>1990-01-12</td>\n",
       "      <td>MILITARY</td>\n",
       "      <td>Louisiana</td>\n",
       "      <td>Climb</td>\n",
       "      <td>Medium</td>\n",
       "      <td>Unknown bird or bat</td>\n",
       "      <td>Day</td>\n",
       "      <td>0</td>\n",
       "      <td>0</td>\n",
       "      <td>0</td>\n",
       "      <td>160.0</td>\n",
       "    </tr>\n",
       "  </tbody>\n",
       "</table>\n",
       "</div>"
      ],
      "text/plain": [
       "                    Airport Name Aircraft Make Model Effect Amount of damage  \\\n",
       "0  BARKSDALE AIR FORCE BASE ARPT               T-38A                    None   \n",
       "1  BARKSDALE AIR FORCE BASE ARPT              KC-10A                    None   \n",
       "2  BARKSDALE AIR FORCE BASE ARPT                B-52                    None   \n",
       "3               NEW ORLEANS INTL           B-737-300             Substantial   \n",
       "4  BARKSDALE AIR FORCE BASE ARPT              KC-10A                    None   \n",
       "\n",
       "  Flight Date Aircraft Airline Operator Origin State Phase of flight  \\\n",
       "0  1990-01-08                  MILITARY    Louisiana           Climb   \n",
       "1  1990-01-09                  MILITARY    Louisiana        Approach   \n",
       "2  1990-01-11                  MILITARY    Louisiana    Take-off run   \n",
       "3  1990-01-11        SOUTHWEST AIRLINES    Louisiana    Take-off run   \n",
       "4  1990-01-12                  MILITARY    Louisiana           Climb   \n",
       "\n",
       "  Wildlife Size     Wildlife Species Time of day  Cost Other  Cost Repair  \\\n",
       "0         Large       Turkey vulture         Day           0            0   \n",
       "1        Medium  Unknown bird or bat       Night           0            0   \n",
       "2        Medium  Unknown bird or bat         Day           0            0   \n",
       "3         Small          Rock pigeon         Day           0            0   \n",
       "4        Medium  Unknown bird or bat         Day           0            0   \n",
       "\n",
       "   Cost Total $  Speed IAS in knots  \n",
       "0             0               300.0  \n",
       "1             0               200.0  \n",
       "2             0               130.0  \n",
       "3             0               140.0  \n",
       "4             0               160.0  "
      ]
     },
     "execution_count": 9,
     "metadata": {},
     "output_type": "execute_result"
    }
   ],
   "source": [
    "# birdstrikes dataframe\n",
    "birdstrikes = pd.read_csv('https://raw.githubusercontent.com/vega/vega-datasets/master/data/birdstrikes.csv')\n",
    "birdstrikes.head()"
   ]
  },
  {
   "cell_type": "code",
   "execution_count": 10,
   "metadata": {},
   "outputs": [
    {
     "data": {
      "text/plain": [
       "{'Unknown bird - small': 3572,\n",
       " 'Unknown bird - medium': 3372,\n",
       " 'Unknown bird or bat': 629,\n",
       " 'Unknown bird - large': 436,\n",
       " 'European starling': 319,\n",
       " 'Rock pigeon': 232,\n",
       " 'Mourning dove': 217,\n",
       " 'Canada goose': 190,\n",
       " 'Red-tailed hawk': 100,\n",
       " 'Ring-billed gull': 87,\n",
       " 'American kestrel': 83,\n",
       " 'Pacific golden-plover': 65,\n",
       " 'Killdeer': 64,\n",
       " 'Mallard': 63,\n",
       " 'American robin': 62,\n",
       " 'Herring gull': 52,\n",
       " 'Barn owl': 47,\n",
       " 'American crow': 41,\n",
       " 'Barn swallow': 38,\n",
       " 'White-tailed deer': 34,\n",
       " 'Turkey vulture': 33,\n",
       " 'Eastern meadowlark': 30,\n",
       " 'Laughing gull': 29,\n",
       " 'Coyote': 26,\n",
       " 'Zebra dove': 25,\n",
       " 'Great blue heron': 25,\n",
       " 'Horned lark': 22,\n",
       " 'Western meadowlark': 19,\n",
       " 'Cattle egret': 16,\n",
       " 'Tree swallow': 14,\n",
       " 'Cliff swallow': 13,\n",
       " 'Meadowlarks': 10,\n",
       " 'Blackbirds': 10,\n",
       " 'Short-eared owl': 9,\n",
       " 'Chimney swift': 7,\n",
       " 'Common nighthawk': 6,\n",
       " 'Savannah sparrow': 3}"
      ]
     },
     "execution_count": 10,
     "metadata": {},
     "output_type": "execute_result"
    }
   ],
   "source": [
    "# create dictionary with key value pairs for waffle chart values\n",
    "bird_counts = dict(birdstrikes['Wildlife Species'].value_counts())\n",
    "bird_counts"
   ]
  },
  {
   "cell_type": "code",
   "execution_count": 17,
   "metadata": {},
   "outputs": [
    {
     "data": {
      "image/png": "[encoded data removed]",
      "text/plain": [
       "<Waffle size 1296x576 with 1 Axes>"
      ]
     },
     "metadata": {
      "needs_background": "light"
     },
     "output_type": "display_data"
    }
   ],
   "source": [
    "# waffle chart\n",
    "fig = plt.figure(FigureClass=Waffle,\n",
    "                 figsize=(18,8),\n",
    "                 rows=15,\n",
    "                 columns=75,\n",
    "                 values=bird_counts,\n",
    "                 title={'label': 'Birdstrikes by Bird Type', 'loc': 'left', 'fontdict': {'fontsize': 20}},\n",
    "                 labels=['{0} ({1})'.format(k, v) for k, v in bird_counts.items()],\n",
    "                 legend={'loc': (0, -0.7), 'ncol': 6, 'fontsize': 12, 'framealpha': 0})"
   ]
  },
  {
   "cell_type": "markdown",
   "metadata": {},
   "source": [
    "Additional Options Include:\n",
    "* Use rounding_rule argument to change scaling\n",
    "* Block shape can be changed with block_aspect_ratio argument\n",
    "* Block spacing can be changed with interval_ratio_x and interval_ratio_y arguments\n",
    "* Where to start first block can be changed with starting_location argument (options-NW, SW, NE, SE)\n",
    "* Plotting direction can be changed with vertical argument (vertical=True)\n",
    "* Where to start each category can be changed with block_arranging_style argument (block_arranging_style='snake' or 'new-line')\n",
    "* Subplots"
   ]
  }
 ],
 "metadata": {
  "kernelspec": {
   "display_name": "Python 3",
   "language": "python",
   "name": "python3"
  },
  "language_info": {
   "codemirror_mode": {
    "name": "ipython",
    "version": 3
   },
   "file_extension": ".py",
   "mimetype": "text/x-python",
   "name": "python",
   "nbconvert_exporter": "python",
   "pygments_lexer": "ipython3",
   "version": "3.7.6"
  },
  "varInspector": {
   "cols": {
    "lenName": 16,
    "lenType": 16,
    "lenVar": 40
   },
   "kernels_config": {
    "python": {
     "delete_cmd_postfix": "",
     "delete_cmd_prefix": "del ",
     "library": "var_list.py",
     "varRefreshCmd": "print(var_dic_list())"
    },
    "r": {
     "delete_cmd_postfix": ") ",
     "delete_cmd_prefix": "rm(",
     "library": "var_list.r",
     "varRefreshCmd": "cat(var_dic_list()) "
    }
   },
   "types_to_exclude": [
    "module",
    "function",
    "builtin_function_or_method",
    "instance",
    "_Feature"
   ],
   "window_display": false
  }
 },
 "nbformat": 4,
 "nbformat_minor": 4
}
